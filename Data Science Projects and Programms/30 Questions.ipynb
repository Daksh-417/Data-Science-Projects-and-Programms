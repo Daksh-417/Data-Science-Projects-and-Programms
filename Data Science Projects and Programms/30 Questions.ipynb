{
 "cells": [
  {
   "cell_type": "code",
   "execution_count": 12,
   "id": "59030004-3b6a-41ee-91cb-abf8ca639206",
   "metadata": {},
   "outputs": [
    {
     "name": "stdout",
     "output_type": "stream",
     "text": [
      "olleh\n"
     ]
    }
   ],
   "source": [
    "#1\n",
    "s = \"hello\"\n",
    "print(s[::-1])"
   ]
  },
  {
   "cell_type": "code",
   "execution_count": 13,
   "id": "9d0a54cf-67ef-4e6b-96d3-dbebbaaf4aed",
   "metadata": {},
   "outputs": [
    {
     "name": "stdout",
     "output_type": "stream",
     "text": [
      "True\n"
     ]
    }
   ],
   "source": [
    "#2\n",
    "s = \"madam\"\n",
    "print(s == s[::-1])"
   ]
  },
  {
   "cell_type": "code",
   "execution_count": 14,
   "id": "ff3954c1-faa8-439e-9ae6-d9bdcd41be21",
   "metadata": {},
   "outputs": [
    {
     "name": "stdout",
     "output_type": "stream",
     "text": [
      "120\n"
     ]
    }
   ],
   "source": [
    "#3\n",
    "def factorial(n):\n",
    "    return 1 if n == 0 else n * factorial(n-1)\n",
    "print(factorial(5))"
   ]
  },
  {
   "cell_type": "code",
   "execution_count": 17,
   "id": "cc49ca26-b2b0-41d9-bc97-bf170e1ad2ae",
   "metadata": {},
   "outputs": [
    {
     "name": "stdout",
     "output_type": "stream",
     "text": [
      "0 1 1 2 3 5 8 13 21 34 "
     ]
    }
   ],
   "source": [
    "#4\n",
    "n = 10\n",
    "a, b = 0, 1\n",
    "for i in range(n):\n",
    "    print(a, end=' ')\n",
    "    a, b = b, a + b"
   ]
  },
  {
   "cell_type": "code",
   "execution_count": 16,
   "id": "83f39dc2-8a66-471d-a3dc-cd1f13b17e3b",
   "metadata": {},
   "outputs": [
    {
     "name": "stdout",
     "output_type": "stream",
     "text": [
      "True\n"
     ]
    }
   ],
   "source": [
    "#5\n",
    "n = 7\n",
    "if n < 2:\n",
    "    print(False)\n",
    "else:\n",
    "    for i in range(2, int(n**0.5)+1):\n",
    "        if n % i == 0:\n",
    "            print(False)\n",
    "            break\n",
    "    else:\n",
    "        print(True)"
   ]
  },
  {
   "cell_type": "code",
   "execution_count": 18,
   "id": "6b4d49d6-889c-4b56-8da5-0525eee6dff5",
   "metadata": {},
   "outputs": [
    {
     "name": "stdout",
     "output_type": "stream",
     "text": [
      "6\n"
     ]
    }
   ],
   "source": [
    "#6\n",
    "import math\n",
    "print(math.gcd(12, 18))"
   ]
  },
  {
   "cell_type": "code",
   "execution_count": 19,
   "id": "a7526981-cb15-4de7-b093-37edff3ee4d8",
   "metadata": {},
   "outputs": [
    {
     "name": "stdout",
     "output_type": "stream",
     "text": [
      "3\n"
     ]
    }
   ],
   "source": [
    "#7\n",
    "s = \"Hello World\"\n",
    "vowels = \"aeiouAEIOU\"\n",
    "count = sum(1 for ch in s if ch in vowels)\n",
    "print(count)"
   ]
  },
  {
   "cell_type": "code",
   "execution_count": 20,
   "id": "f708d42d-7090-4b26-8169-7c79d4632fde",
   "metadata": {},
   "outputs": [
    {
     "name": "stdout",
     "output_type": "stream",
     "text": [
      "{2, 4}\n"
     ]
    }
   ],
   "source": [
    "#8\n",
    "lst = [1, 2, 2, 3, 4, 4]\n",
    "duplicates = set([x for x in lst if lst.count(x) > 1])\n",
    "print(duplicates)"
   ]
  },
  {
   "cell_type": "code",
   "execution_count": 21,
   "id": "69e4a3cb-1d9b-4fe4-a702-b3f3a52656ee",
   "metadata": {},
   "outputs": [
    {
     "name": "stdout",
     "output_type": "stream",
     "text": [
      "True\n"
     ]
    }
   ],
   "source": [
    "#9\n",
    "s1 = \"listen\"\n",
    "s2 = \"silent\"\n",
    "print(sorted(s1) == sorted(s2))"
   ]
  },
  {
   "cell_type": "code",
   "execution_count": 22,
   "id": "1827eb64-6992-4a63-9b58-33accd11f6d2",
   "metadata": {},
   "outputs": [
    {
     "name": "stdout",
     "output_type": "stream",
     "text": [
      "[1, 2, 3, 4, 5, 6]\n"
     ]
    }
   ],
   "source": [
    "#10\n",
    "a = [1, 3, 5]\n",
    "b = [2, 4, 6]\n",
    "print(sorted(a + b))"
   ]
  },
  {
   "cell_type": "code",
   "execution_count": 23,
   "id": "165ae54a-78f4-40e2-a352-95947d897ed4",
   "metadata": {},
   "outputs": [
    {
     "name": "stdout",
     "output_type": "stream",
     "text": [
      "3\n"
     ]
    }
   ],
   "source": [
    "#11\n",
    "lst = [1, 2, 4, 5]\n",
    "n = 5\n",
    "print(sum(range(1, n+1)) - sum(lst))"
   ]
  },
  {
   "cell_type": "code",
   "execution_count": 24,
   "id": "1d8ab0df-8005-4c58-993f-826473f57ca5",
   "metadata": {},
   "outputs": [
    {
     "name": "stdout",
     "output_type": "stream",
     "text": [
      "True\n"
     ]
    }
   ],
   "source": [
    "#12\n",
    "n = 153\n",
    "digits = [int(d) for d in str(n)]\n",
    "print(sum(d**len(digits) for d in digits) == n)"
   ]
  },
  {
   "cell_type": "code",
   "execution_count": 25,
   "id": "504f6d8c-4a31-4dcb-a22a-ece9472db34e",
   "metadata": {},
   "outputs": [
    {
     "name": "stdout",
     "output_type": "stream",
     "text": [
      "True\n"
     ]
    }
   ],
   "source": [
    "#13\n",
    "import string\n",
    "s = \"The quick brown fox jumps over the lazy dog\"\n",
    "print(set(string.ascii_lowercase).issubset(s.lower()))"
   ]
  },
  {
   "cell_type": "code",
   "execution_count": 27,
   "id": "41570c24-3aca-45bb-92cb-0ac2d8888ce6",
   "metadata": {},
   "outputs": [
    {
     "name": "stdout",
     "output_type": "stream",
     "text": [
      "[1, 2, 3]\n"
     ]
    }
   ],
   "source": [
    "#14\n",
    "lst = [1, 2, 2, 3]\n",
    "print(list(set(lst)))"
   ]
  },
  {
   "cell_type": "code",
   "execution_count": 29,
   "id": "f3832702-30f8-4170-bb75-88dd9d6faa58",
   "metadata": {},
   "outputs": [
    {
     "name": "stdout",
     "output_type": "stream",
     "text": [
      "20\n"
     ]
    }
   ],
   "source": [
    "#15\n",
    "lst = [10, 20, 4, 45]\n",
    "lst.remove(max(lst))\n",
    "print(max(lst))"
   ]
  },
  {
   "cell_type": "code",
   "execution_count": 30,
   "id": "9e1190eb-5625-4e36-992b-d4641efa4128",
   "metadata": {},
   "outputs": [
    {
     "name": "stdout",
     "output_type": "stream",
     "text": [
      "Counter({3: 3, 2: 2, 1: 1})\n"
     ]
    }
   ],
   "source": [
    "#16\n",
    "from collections import Counter\n",
    "lst = [1, 2, 2, 3, 3, 3]\n",
    "print(Counter(lst))"
   ]
  },
  {
   "cell_type": "code",
   "execution_count": 31,
   "id": "94d2cba9-abea-4327-9964-2fa3d8a58842",
   "metadata": {},
   "outputs": [
    {
     "name": "stdout",
     "output_type": "stream",
     "text": [
      "[(1, 3), (2, 4)]\n"
     ]
    }
   ],
   "source": [
    "#17\n",
    "matrix = [[1, 2], [3, 4]]\n",
    "transpose = list(zip(*matrix))\n",
    "print(transpose)"
   ]
  },
  {
   "cell_type": "code",
   "execution_count": 32,
   "id": "5b4a95d9-500e-4c21-a2f4-b267a8fcab75",
   "metadata": {},
   "outputs": [
    {
     "name": "stdout",
     "output_type": "stream",
     "text": [
      "True\n"
     ]
    }
   ],
   "source": [
    "#17\n",
    "lst = [5, 3, 7, 1]\n",
    "x = 7\n",
    "print(x in lst)"
   ]
  },
  {
   "cell_type": "code",
   "execution_count": 33,
   "id": "7bb57689-1439-400b-a549-cc34f256572b",
   "metadata": {},
   "outputs": [
    {
     "name": "stdout",
     "output_type": "stream",
     "text": [
      "True\n"
     ]
    }
   ],
   "source": [
    "#19\n",
    "def binary_search(arr, x):\n",
    "    low, high = 0, len(arr)-1\n",
    "    while low <= high:\n",
    "        mid = (low + high) // 2\n",
    "        if arr[mid] == x:\n",
    "            return True\n",
    "        elif arr[mid] < x:\n",
    "            low = mid + 1\n",
    "        else:\n",
    "            high = mid - 1\n",
    "    return False\n",
    "print(binary_search([1, 3, 5, 7], 5))"
   ]
  },
  {
   "cell_type": "code",
   "execution_count": 34,
   "id": "75a1ee16-20d9-4561-9248-c64ecaa564b1",
   "metadata": {},
   "outputs": [
    {
     "name": "stdout",
     "output_type": "stream",
     "text": [
      "[2, 3]\n"
     ]
    }
   ],
   "source": [
    "#20\n",
    "a = [1, 2, 3]\n",
    "b = [2, 3, 4]\n",
    "print(list(set(a) & set(b)))"
   ]
  },
  {
   "cell_type": "code",
   "execution_count": null,
   "id": "b6a573f6-1940-4992-8f00-101953a5b5a9",
   "metadata": {},
   "outputs": [],
   "source": [
    "#21\n",
    "def flatten_list(nested_list):\n",
    "    flat_list = []\n",
    "    for item in nested_list:\n",
    "        if isinstance(item, list):\n",
    "            flat_list.extend(flatten_list(item))\n",
    "        else:\n",
    "            flat_list.append(item)\n",
    "    return flat_list\n",
    "\n",
    "# Example\n",
    "print(flatten_list([1, [2, [3, 4], 5], 6]))"
   ]
  },
  {
   "cell_type": "code",
   "execution_count": null,
   "id": "838034e7",
   "metadata": {},
   "outputs": [],
   "source": [
    "#22\n",
    "def is_armstrong(n):\n",
    "    digits = str(n)\n",
    "    power = len(digits)\n",
    "    return n == sum(int(d)**power for d in digits)\n",
    "\n",
    "def armstrong_in_range(start, end):\n",
    "    return [x for x in range(start, end+1) if is_armstrong(x)]\n",
    "\n",
    "# Example\n",
    "print(armstrong_in_range(100, 999))\n"
   ]
  },
  {
   "cell_type": "code",
   "execution_count": null,
   "id": "d643522f",
   "metadata": {},
   "outputs": [],
   "source": [
    "#23\n",
    "def count_words(string):\n",
    "    return len(string.split())\n",
    "\n",
    "# Example\n",
    "print(count_words(\"This is a sample sentence\"))\n"
   ]
  },
  {
   "cell_type": "code",
   "execution_count": null,
   "id": "e8a0c30e",
   "metadata": {},
   "outputs": [],
   "source": [
    "#24\n",
    "def compress_string(s):\n",
    "    result = \"\"\n",
    "    i = 0\n",
    "    while i < len(s):\n",
    "        count = 1\n",
    "        while i + 1 < len(s) and s[i] == s[i+1]:\n",
    "            count += 1\n",
    "            i += 1\n",
    "        result += s[i] + str(count)\n",
    "        i += 1\n",
    "    return result\n",
    "\n",
    "# Example\n",
    "print(compress_string(\"aaabbcc\"))\n"
   ]
  },
  {
   "cell_type": "code",
   "execution_count": null,
   "id": "63b5f185",
   "metadata": {},
   "outputs": [],
   "source": [
    "#25\n",
    "def pascal_triangle(n):\n",
    "    triangle = [[1]]\n",
    "    for _ in range(1, n):\n",
    "        row = [1]\n",
    "        for j in range(1, len(triangle[-1])):\n",
    "            row.append(triangle[-1][j-1] + triangle[-1][j])\n",
    "        row.append(1)\n",
    "        triangle.append(row)\n",
    "    return triangle\n",
    "\n",
    "# Example\n",
    "for row in pascal_triangle(5):\n",
    "    print(row)\n"
   ]
  },
  {
   "cell_type": "code",
   "execution_count": null,
   "id": "2712a810",
   "metadata": {},
   "outputs": [],
   "source": [
    "#26\n",
    "def majority_element(nums):\n",
    "    count = 0\n",
    "    candidate = None\n",
    "    for num in nums:\n",
    "        if count == 0:\n",
    "            candidate = num\n",
    "        count += (1 if num == candidate else -1)\n",
    "    return candidate\n",
    "\n",
    "# Example\n",
    "print(majority_element([3, 3, 4, 2, 3, 3, 3]))\n"
   ]
  },
  {
   "cell_type": "code",
   "execution_count": null,
   "id": "901be632",
   "metadata": {},
   "outputs": [],
   "source": [
    "#27\n",
    "def move_zeros(lst):\n",
    "    non_zeros = [x for x in lst if x != 0]\n",
    "    return non_zeros + [0] * (len(lst) - len(non_zeros))\n",
    "\n",
    "# Example\n",
    "print(move_zeros([0, 1, 0, 3, 12]))\n"
   ]
  },
  {
   "cell_type": "code",
   "execution_count": null,
   "id": "76da000c",
   "metadata": {},
   "outputs": [],
   "source": [
    "#28\n",
    "class Stack:\n",
    "    def __init__(self):\n",
    "        self.stack = []\n",
    "    \n",
    "    def push(self, value):\n",
    "        self.stack.append(value)\n",
    "    \n",
    "    def pop(self):\n",
    "        return self.stack.pop() if self.stack else None\n",
    "    \n",
    "    def peek(self):\n",
    "        return self.stack[-1] if self.stack else None\n",
    "    \n",
    "    def is_empty(self):\n",
    "        return not self.stack\n",
    "\n",
    "# Example\n",
    "s = Stack()\n",
    "s.push(10)\n",
    "s.push(20)\n",
    "print(s.pop())\n",
    "print(s.peek())\n"
   ]
  },
  {
   "cell_type": "code",
   "execution_count": null,
   "id": "854741b2",
   "metadata": {},
   "outputs": [],
   "source": [
    "#29\n",
    "def rotate_list(lst, k):\n",
    "    k = k % len(lst)\n",
    "    return lst[-k:] + lst[:-k]\n",
    "\n",
    "# Example\n",
    "print(rotate_list([1, 2, 3, 4, 5], 2))\n"
   ]
  },
  {
   "cell_type": "code",
   "execution_count": null,
   "id": "e6c7164c",
   "metadata": {},
   "outputs": [],
   "source": [
    "#30\n",
    "def is_sorted(lst):\n",
    "    return lst == sorted(lst) or lst == sorted(lst, reverse=True)\n",
    "\n",
    "# Example\n",
    "print(is_sorted([1, 2, 3, 4]))\n",
    "print(is_sorted([4, 3, 2, 1]))\n"
   ]
  }
 ],
 "metadata": {
  "kernelspec": {
   "display_name": "Python 3 (ipykernel)",
   "language": "python",
   "name": "python3"
  },
  "language_info": {
   "codemirror_mode": {
    "name": "ipython",
    "version": 3
   },
   "file_extension": ".py",
   "mimetype": "text/x-python",
   "name": "python",
   "nbconvert_exporter": "python",
   "pygments_lexer": "ipython3",
   "version": "3.13.5"
  }
 },
 "nbformat": 4,
 "nbformat_minor": 5
}
